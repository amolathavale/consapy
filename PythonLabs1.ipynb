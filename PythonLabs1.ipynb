{
 "cells": [
  {
   "cell_type": "code",
   "execution_count": 8,
   "metadata": {
    "collapsed": false
   },
   "outputs": [
    {
     "name": "stdout",
     "output_type": "stream",
     "text": [
      "4\n",
      "9\n",
      "16\n",
      "25\n",
      "36\n"
     ]
    }
   ],
   "source": [
    "def square_numbers(nums):\n",
    "    for i in nums:\n",
    "        yield (i*i)\n",
    "\n",
    "my_nums = square_numbers([2,3,4,5,6])\n",
    "\n",
    "for num in my_nums:\n",
    "    print(num)"
   ]
  },
  {
   "cell_type": "code",
   "execution_count": 9,
   "metadata": {
    "collapsed": false
   },
   "outputs": [
    {
     "name": "stdout",
     "output_type": "stream",
     "text": [
      "Hello My world\n"
     ]
    }
   ],
   "source": [
    "print('Hello {}world'.format(\"My \"))"
   ]
  },
  {
   "cell_type": "code",
   "execution_count": 15,
   "metadata": {
    "collapsed": false
   },
   "outputs": [
    {
     "name": "stdout",
     "output_type": "stream",
     "text": [
      "<generator object people_generator at 0x1046916d0>\n",
      "[{'id': 0, 'major': 'Maths', 'name': 'Rick'}, {'id': 1, 'major': 'Politics', 'name': 'Steve'}, {'id': 2, 'major': 'Arts', 'name': 'Thomas'}, {'id': 3, 'major': 'Maths', 'name': 'Edwards'}, {'id': 4, 'major': 'Arts', 'name': 'John'}, {'id': 5, 'major': 'Engineering', 'name': 'David'}, {'id': 6, 'major': 'Healthcare', 'name': 'David'}, {'id': 7, 'major': 'Business', 'name': 'Rick'}, {'id': 8, 'major': 'Healthcare', 'name': 'Thomas'}, {'id': 9, 'major': 'Business', 'name': 'Thomas'}, {'id': 10, 'major': 'Healthcare', 'name': 'Edwards'}, {'id': 11, 'major': 'Business', 'name': 'George'}, {'id': 12, 'major': 'Arts', 'name': 'Adam'}, {'id': 13, 'major': 'Maths', 'name': 'John'}, {'id': 14, 'major': 'Engineering', 'name': 'George'}, {'id': 15, 'major': 'Arts', 'name': 'Philip'}, {'id': 16, 'major': 'Healthcare', 'name': 'Thomas'}, {'id': 17, 'major': 'Healthcare', 'name': 'Philip'}, {'id': 18, 'major': 'Arts', 'name': 'Rick'}, {'id': 19, 'major': 'Healthcare', 'name': 'Philip'}, {'id': 20, 'major': 'Politics', 'name': 'Corey'}, {'id': 21, 'major': 'Science', 'name': 'John'}, {'id': 22, 'major': 'Engineering', 'name': 'George'}, {'id': 23, 'major': 'Engineering', 'name': 'Adam'}, {'id': 24, 'major': 'Engineering', 'name': 'Rick'}, {'id': 25, 'major': 'Engineering', 'name': 'Thomas'}, {'id': 26, 'major': 'Healthcare', 'name': 'Edwards'}, {'id': 27, 'major': 'Maths', 'name': 'Rick'}, {'id': 28, 'major': 'Arts', 'name': 'Edwards'}, {'id': 29, 'major': 'Maths', 'name': 'Corey'}, {'id': 30, 'major': 'Arts', 'name': 'Edwards'}, {'id': 31, 'major': 'Arts', 'name': 'Adam'}, {'id': 32, 'major': 'Science', 'name': 'Philip'}, {'id': 33, 'major': 'Politics', 'name': 'Corey'}, {'id': 34, 'major': 'Science', 'name': 'John'}, {'id': 35, 'major': 'Maths', 'name': 'Adam'}, {'id': 36, 'major': 'Maths', 'name': 'Steve'}, {'id': 37, 'major': 'Arts', 'name': 'George'}, {'id': 38, 'major': 'Healthcare', 'name': 'Charles'}, {'id': 39, 'major': 'Science', 'name': 'Steve'}, {'id': 40, 'major': 'Engineering', 'name': 'David'}, {'id': 41, 'major': 'Politics', 'name': 'Steve'}, {'id': 42, 'major': 'Politics', 'name': 'Edwards'}, {'id': 43, 'major': 'Healthcare', 'name': 'Thomas'}, {'id': 44, 'major': 'Science', 'name': 'Philip'}, {'id': 45, 'major': 'Business', 'name': 'George'}, {'id': 46, 'major': 'Business', 'name': 'Adam'}, {'id': 47, 'major': 'Maths', 'name': 'Rick'}, {'id': 48, 'major': 'Politics', 'name': 'Rick'}, {'id': 49, 'major': 'Science', 'name': 'Philip'}, {'id': 50, 'major': 'Healthcare', 'name': 'Rick'}, {'id': 51, 'major': 'Science', 'name': 'Adam'}, {'id': 52, 'major': 'Engineering', 'name': 'David'}, {'id': 53, 'major': 'Arts', 'name': 'Charles'}, {'id': 54, 'major': 'Healthcare', 'name': 'Giles'}, {'id': 55, 'major': 'Business', 'name': 'John'}, {'id': 56, 'major': 'Arts', 'name': 'David'}, {'id': 57, 'major': 'Engineering', 'name': 'Charles'}, {'id': 58, 'major': 'Politics', 'name': 'Giles'}, {'id': 59, 'major': 'Healthcare', 'name': 'Philip'}, {'id': 60, 'major': 'Engineering', 'name': 'Steve'}, {'id': 61, 'major': 'Politics', 'name': 'Giles'}, {'id': 62, 'major': 'Business', 'name': 'George'}, {'id': 63, 'major': 'Engineering', 'name': 'Philip'}, {'id': 64, 'major': 'Engineering', 'name': 'Philip'}, {'id': 65, 'major': 'Arts', 'name': 'Adam'}, {'id': 66, 'major': 'Business', 'name': 'Edwards'}, {'id': 67, 'major': 'Science', 'name': 'Thomas'}, {'id': 68, 'major': 'Arts', 'name': 'Steve'}, {'id': 69, 'major': 'Politics', 'name': 'Giles'}, {'id': 70, 'major': 'Business', 'name': 'David'}, {'id': 71, 'major': 'Maths', 'name': 'Corey'}, {'id': 72, 'major': 'Science', 'name': 'Giles'}, {'id': 73, 'major': 'Engineering', 'name': 'David'}, {'id': 74, 'major': 'Healthcare', 'name': 'Thomas'}, {'id': 75, 'major': 'Healthcare', 'name': 'Thomas'}, {'id': 76, 'major': 'Arts', 'name': 'Adam'}, {'id': 77, 'major': 'Arts', 'name': 'Rick'}, {'id': 78, 'major': 'Maths', 'name': 'Corey'}, {'id': 79, 'major': 'Arts', 'name': 'George'}, {'id': 80, 'major': 'Science', 'name': 'Thomas'}, {'id': 81, 'major': 'Politics', 'name': 'George'}, {'id': 82, 'major': 'Engineering', 'name': 'George'}, {'id': 83, 'major': 'Politics', 'name': 'Steve'}, {'id': 84, 'major': 'Arts', 'name': 'Edwards'}, {'id': 85, 'major': 'Politics', 'name': 'Giles'}, {'id': 86, 'major': 'Business', 'name': 'Steve'}, {'id': 87, 'major': 'Science', 'name': 'Charles'}, {'id': 88, 'major': 'Science', 'name': 'Corey'}, {'id': 89, 'major': 'Maths', 'name': 'Charles'}, {'id': 90, 'major': 'Politics', 'name': 'Giles'}, {'id': 91, 'major': 'Arts', 'name': 'Giles'}, {'id': 92, 'major': 'Politics', 'name': 'Steve'}, {'id': 93, 'major': 'Healthcare', 'name': 'John'}, {'id': 94, 'major': 'Maths', 'name': 'Philip'}, {'id': 95, 'major': 'Engineering', 'name': 'George'}, {'id': 96, 'major': 'Maths', 'name': 'Thomas'}, {'id': 97, 'major': 'Science', 'name': 'George'}, {'id': 98, 'major': 'Business', 'name': 'David'}, {'id': 99, 'major': 'Politics', 'name': 'Philip'}]\n"
     ]
    }
   ],
   "source": [
    "import random as rnd\n",
    "names = ['John', 'Corey', 'Adam', 'Steve', 'Rick', 'Thomas', 'Giles', 'David','George','Philip', 'Charles', 'Edwards']\n",
    "majors = ['Arts', 'Science', 'Engineering', 'Politics', 'Maths', 'Business', 'Healthcare']\n",
    "\n",
    "def people_generator(num_people):\n",
    "    for i in range(num_people):\n",
    "        person = {\n",
    "            'id': i,\n",
    "            'name': rnd.choice(names),\n",
    "            'major': rnd.choice(majors)            \n",
    "        }\n",
    "        yield person\n",
    "people = people_generator(100)\n",
    "\n",
    "print(people)\n",
    "\n",
    "print([person for person in people])"
   ]
  },
  {
   "cell_type": "code",
   "execution_count": null,
   "metadata": {
    "collapsed": true
   },
   "outputs": [],
   "source": []
  },
  {
   "cell_type": "code",
   "execution_count": null,
   "metadata": {
    "collapsed": true
   },
   "outputs": [],
   "source": []
  },
  {
   "cell_type": "code",
   "execution_count": null,
   "metadata": {
    "collapsed": true
   },
   "outputs": [],
   "source": []
  },
  {
   "cell_type": "code",
   "execution_count": null,
   "metadata": {
    "collapsed": true
   },
   "outputs": [],
   "source": []
  },
  {
   "cell_type": "code",
   "execution_count": null,
   "metadata": {
    "collapsed": true
   },
   "outputs": [],
   "source": []
  },
  {
   "cell_type": "code",
   "execution_count": null,
   "metadata": {
    "collapsed": true
   },
   "outputs": [],
   "source": []
  }
 ],
 "metadata": {
  "kernelspec": {
   "display_name": "Python 3",
   "language": "python",
   "name": "python3"
  },
  "language_info": {
   "codemirror_mode": {
    "name": "ipython",
    "version": 3
   },
   "file_extension": ".py",
   "mimetype": "text/x-python",
   "name": "python",
   "nbconvert_exporter": "python",
   "pygments_lexer": "ipython3",
   "version": "3.5.1"
  }
 },
 "nbformat": 4,
 "nbformat_minor": 0
}
